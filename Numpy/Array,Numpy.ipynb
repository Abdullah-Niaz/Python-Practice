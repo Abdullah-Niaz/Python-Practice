{
  "nbformat": 4,
  "nbformat_minor": 0,
  "metadata": {
    "colab": {
      "name": "Array,Numpy.ipynb",
      "provenance": [],
      "collapsed_sections": []
    },
    "kernelspec": {
      "name": "python3",
      "display_name": "Python 3"
    },
    "language_info": {
      "name": "python"
    }
  },
  "cells": [
    {
      "cell_type": "markdown",
      "source": [
        "**What is an Array?**\n",
        "\n",
        "An array is a special variable, which can hold more than one value at a time."
      ],
      "metadata": {
        "id": "qpCV9yjB-dQv"
      }
    },
    {
      "cell_type": "markdown",
      "source": [
        "\n",
        "\n",
        "*   Python does not have ** built-in** support for Arrays, but Python Lists can be used instead.\n",
        "\n",
        "*   How to use LISTS as ARRAYS, however, to work with arrays in Python you will have to import a library, like the NumPy library.\n",
        "\n"
      ],
      "metadata": {
        "id": "Dm1NYW4q-t1G"
      }
    },
    {
      "cell_type": "code",
      "execution_count": 1,
      "metadata": {
        "id": "8ZzWagwn-B_j"
      },
      "outputs": [],
      "source": [
        "import array\n",
        "\n",
        "# or you can also use\n",
        "\n",
        "from array import *  "
      ]
    },
    {
      "cell_type": "markdown",
      "source": [
        "## List"
      ],
      "metadata": {
        "id": "tqSFbb5-D8As"
      }
    },
    {
      "cell_type": "code",
      "source": [
        "Color = [\"Red\", \"Green\", \"Blue\"]\n",
        "Color"
      ],
      "metadata": {
        "colab": {
          "base_uri": "https://localhost:8080/"
        },
        "id": "4zVMi_y9_HSK",
        "outputId": "158c748b-b2f2-411c-9b8d-6a85b420b008"
      },
      "execution_count": 10,
      "outputs": [
        {
          "output_type": "execute_result",
          "data": {
            "text/plain": [
              "['Red', 'Green', 'Blue']"
            ]
          },
          "metadata": {},
          "execution_count": 10
        }
      ]
    },
    {
      "cell_type": "code",
      "source": [
        "# Indexing in List\n",
        "\n",
        "print(Color[1])  # positive indexing\n",
        "\n",
        "print(\"\\n---- \\t ---- \\n\")\n",
        "print(Color[-1]) # negative \n",
        "\n",
        "print(\"\\n---- \\t ---- \\n\")\n",
        "print(Color[0:3]) #Positive Slicing\n",
        "\n",
        "print(\"\\n---- \\t ---- \\n\")\n",
        "print(Color[-3:-1]) #Negative slicing\n"
      ],
      "metadata": {
        "colab": {
          "base_uri": "https://localhost:8080/"
        },
        "id": "YY0VVt6P_So7",
        "outputId": "44588a27-1d0e-471e-9f8f-84d4671df43a"
      },
      "execution_count": 34,
      "outputs": [
        {
          "output_type": "stream",
          "name": "stdout",
          "text": [
            "Green\n",
            "\n",
            "---- \t ---- \n",
            "\n",
            "Blue\n",
            "\n",
            "---- \t ---- \n",
            "\n",
            "['Red', 'Green', 'Blue']\n",
            "\n",
            "---- \t ---- \n",
            "\n",
            "['Red', 'Green']\n"
          ]
        }
      ]
    },
    {
      "cell_type": "markdown",
      "source": [
        "## **Looping in Array Elements**"
      ],
      "metadata": {
        "id": "_fJwIsIWBBfV"
      }
    },
    {
      "cell_type": "code",
      "source": [
        "name = ['Ali','Abdullah','Omer','Hamza','Talha']\n",
        "name"
      ],
      "metadata": {
        "colab": {
          "base_uri": "https://localhost:8080/"
        },
        "id": "6iBiNnSD_Z7S",
        "outputId": "0be6d483-86b7-45db-f55e-e566c177ebea"
      },
      "execution_count": 36,
      "outputs": [
        {
          "output_type": "execute_result",
          "data": {
            "text/plain": [
              "['Ali', 'Abdullah', 'Omer', 'Hamza', 'Talha']"
            ]
          },
          "metadata": {},
          "execution_count": 36
        }
      ]
    },
    {
      "cell_type": "code",
      "source": [
        "# Simple for loop\n",
        "for y in name:\n",
        "  print(y)"
      ],
      "metadata": {
        "colab": {
          "base_uri": "https://localhost:8080/"
        },
        "id": "blMjFyFF_O8t",
        "outputId": "9a65b4d4-cc43-4b37-844d-01dc5e62c122"
      },
      "execution_count": 39,
      "outputs": [
        {
          "output_type": "stream",
          "name": "stdout",
          "text": [
            "Ali\n",
            "Abdullah\n",
            "Omer\n",
            "Hamza\n",
            "Talha\n"
          ]
        }
      ]
    },
    {
      "cell_type": "code",
      "source": [
        "# Nested loop\n",
        "for l in name:\n",
        "  if l == name[3]:\n",
        "    break\n",
        "  else:\n",
        "    print(l)"
      ],
      "metadata": {
        "colab": {
          "base_uri": "https://localhost:8080/"
        },
        "id": "5dPQPW1ABfvs",
        "outputId": "78fd291f-c48e-4089-ec37-ebbba85ece35"
      },
      "execution_count": 50,
      "outputs": [
        {
          "output_type": "stream",
          "name": "stdout",
          "text": [
            "Ali\n",
            "Abdullah\n",
            "Omer\n"
          ]
        }
      ]
    },
    {
      "cell_type": "markdown",
      "source": [
        "### **Removing Array Elements**"
      ],
      "metadata": {
        "id": "ExM7ktgRCaNc"
      }
    },
    {
      "cell_type": "code",
      "source": [
        "# pop() removes the specific valaue by using the index\n",
        "name = ['Ali','Abdullah','Omer','Hamza','Talha']\n",
        "name.pop(2)\n",
        "print(name)"
      ],
      "metadata": {
        "colab": {
          "base_uri": "https://localhost:8080/"
        },
        "id": "7aBwgN4JCfIS",
        "outputId": "eb4b9134-61d1-449a-c61b-f324bbca928e"
      },
      "execution_count": 63,
      "outputs": [
        {
          "output_type": "stream",
          "name": "stdout",
          "text": [
            "['Ali', 'Abdullah', 'Hamza', 'Talha']\n"
          ]
        }
      ]
    },
    {
      "cell_type": "code",
      "source": [
        "# To check list method use\n",
        "dir(list)"
      ],
      "metadata": {
        "colab": {
          "base_uri": "https://localhost:8080/"
        },
        "id": "SQvf1c_YEnfr",
        "outputId": "68ab8e41-9eb3-4f90-c304-fe7d285bda5c"
      },
      "execution_count": 64,
      "outputs": [
        {
          "output_type": "execute_result",
          "data": {
            "text/plain": [
              "['__add__',\n",
              " '__class__',\n",
              " '__contains__',\n",
              " '__delattr__',\n",
              " '__delitem__',\n",
              " '__dir__',\n",
              " '__doc__',\n",
              " '__eq__',\n",
              " '__format__',\n",
              " '__ge__',\n",
              " '__getattribute__',\n",
              " '__getitem__',\n",
              " '__gt__',\n",
              " '__hash__',\n",
              " '__iadd__',\n",
              " '__imul__',\n",
              " '__init__',\n",
              " '__init_subclass__',\n",
              " '__iter__',\n",
              " '__le__',\n",
              " '__len__',\n",
              " '__lt__',\n",
              " '__mul__',\n",
              " '__ne__',\n",
              " '__new__',\n",
              " '__reduce__',\n",
              " '__reduce_ex__',\n",
              " '__repr__',\n",
              " '__reversed__',\n",
              " '__rmul__',\n",
              " '__setattr__',\n",
              " '__setitem__',\n",
              " '__sizeof__',\n",
              " '__str__',\n",
              " '__subclasshook__',\n",
              " 'append',\n",
              " 'clear',\n",
              " 'copy',\n",
              " 'count',\n",
              " 'extend',\n",
              " 'index',\n",
              " 'insert',\n",
              " 'pop',\n",
              " 'remove',\n",
              " 'reverse',\n",
              " 'sort']"
            ]
          },
          "metadata": {},
          "execution_count": 64
        }
      ]
    },
    {
      "cell_type": "markdown",
      "source": [
        "## Array Methods"
      ],
      "metadata": {
        "id": "MpUNkdoUDfmV"
      }
    },
    {
      "cell_type": "code",
      "source": [
        "# In order to check the array method use this\n",
        "dir(array)"
      ],
      "metadata": {
        "colab": {
          "base_uri": "https://localhost:8080/"
        },
        "id": "INzzawcnDlmM",
        "outputId": "cc9c1ee6-a226-4043-b9f7-1ce513ea133b"
      },
      "execution_count": 65,
      "outputs": [
        {
          "output_type": "execute_result",
          "data": {
            "text/plain": [
              "['__add__',\n",
              " '__class__',\n",
              " '__contains__',\n",
              " '__copy__',\n",
              " '__deepcopy__',\n",
              " '__delattr__',\n",
              " '__delitem__',\n",
              " '__dir__',\n",
              " '__doc__',\n",
              " '__eq__',\n",
              " '__format__',\n",
              " '__ge__',\n",
              " '__getattribute__',\n",
              " '__getitem__',\n",
              " '__gt__',\n",
              " '__hash__',\n",
              " '__iadd__',\n",
              " '__imul__',\n",
              " '__init__',\n",
              " '__init_subclass__',\n",
              " '__iter__',\n",
              " '__le__',\n",
              " '__len__',\n",
              " '__lt__',\n",
              " '__mul__',\n",
              " '__ne__',\n",
              " '__new__',\n",
              " '__reduce__',\n",
              " '__reduce_ex__',\n",
              " '__repr__',\n",
              " '__rmul__',\n",
              " '__setattr__',\n",
              " '__setitem__',\n",
              " '__sizeof__',\n",
              " '__str__',\n",
              " '__subclasshook__',\n",
              " 'append',\n",
              " 'buffer_info',\n",
              " 'byteswap',\n",
              " 'count',\n",
              " 'extend',\n",
              " 'frombytes',\n",
              " 'fromfile',\n",
              " 'fromlist',\n",
              " 'fromstring',\n",
              " 'fromunicode',\n",
              " 'index',\n",
              " 'insert',\n",
              " 'itemsize',\n",
              " 'pop',\n",
              " 'remove',\n",
              " 'reverse',\n",
              " 'tobytes',\n",
              " 'tofile',\n",
              " 'tolist',\n",
              " 'tostring',\n",
              " 'tounicode',\n",
              " 'typecode']"
            ]
          },
          "metadata": {},
          "execution_count": 65
        }
      ]
    },
    {
      "cell_type": "markdown",
      "source": [
        "## Array "
      ],
      "metadata": {
        "id": "GyKvFxKpD4vM"
      }
    },
    {
      "cell_type": "markdown",
      "source": [
        "Array itself create a single dimensional array\n",
        "\n",
        "In order to create a multi-dimensional array we use numpy\n",
        "    \n",
        "\n",
        "**Array:**\n",
        "\n",
        "1.   Can only Create a Single dimensional array\n",
        "2.   Slow \n",
        "3.   Use the high memory\n",
        "\n",
        "\n",
        "**Numpy:**\n",
        "\n",
        "1.   Can Create a multi-dimensional array\n",
        "2.   Faster \n",
        "3.   Use the low memory\n",
        "\n"
      ],
      "metadata": {
        "id": "95uAaYlIEwQv"
      }
    },
    {
      "cell_type": "code",
      "source": [
        "import array\n",
        "from array import *"
      ],
      "metadata": {
        "id": "2tEVMw1fD4C-"
      },
      "execution_count": 67,
      "outputs": []
    },
    {
      "cell_type": "code",
      "source": [
        "# Syntax: variable_name = array(\"datatype\",[array])\n",
        "# it is a single dimensional array\n",
        "arr = array(\"i\",[1,2,3,4,5])\n",
        "arr"
      ],
      "metadata": {
        "colab": {
          "base_uri": "https://localhost:8080/"
        },
        "id": "dRo94Y9cGRpM",
        "outputId": "c36f9899-284f-422c-eb8e-5561b5205b3b"
      },
      "execution_count": 70,
      "outputs": [
        {
          "output_type": "execute_result",
          "data": {
            "text/plain": [
              "array('i', [1, 2, 3, 4, 5])"
            ]
          },
          "metadata": {},
          "execution_count": 70
        }
      ]
    },
    {
      "cell_type": "code",
      "source": [
        "# if you try to create a multi-dimensional array it will give you an erro\n",
        "# arr = array(\"i\",[1,2,3],[4,5,6])\n",
        "#  TypeError: array() takes at most 2 arguments (3 given)\n",
        "# this error telling us that we can create only single dimensional array by using the array module"
      ],
      "metadata": {
        "id": "qPPyAEkpGpY7"
      },
      "execution_count": 78,
      "outputs": []
    },
    {
      "cell_type": "code",
      "source": [
        "import numpy as np\n",
        "from numpy import *\n",
        "\n",
        "# it will allow you"
      ],
      "metadata": {
        "id": "tWZqvep6GWwT"
      },
      "execution_count": 79,
      "outputs": []
    },
    {
      "cell_type": "code",
      "source": [
        "arra = np.array([\n",
        "                 [1,2,3,4],\n",
        "                 [5,6,7,8]\n",
        "                 ])\n",
        "arra"
      ],
      "metadata": {
        "colab": {
          "base_uri": "https://localhost:8080/"
        },
        "id": "xtVAp2gpHkvu",
        "outputId": "1a13f021-32a3-45a0-b4a1-91485e1c9e55"
      },
      "execution_count": 96,
      "outputs": [
        {
          "output_type": "execute_result",
          "data": {
            "text/plain": [
              "array([[1, 2, 3, 4],\n",
              "       [5, 6, 7, 8]])"
            ]
          },
          "metadata": {},
          "execution_count": 96
        }
      ]
    },
    {
      "cell_type": "code",
      "source": [
        "# To check the shape of the array\n",
        "arra.shape"
      ],
      "metadata": {
        "colab": {
          "base_uri": "https://localhost:8080/"
        },
        "id": "JFM-qj2UIYMM",
        "outputId": "2b4aa0e5-25ec-46cb-8208-3622c76f2825"
      },
      "execution_count": 104,
      "outputs": [
        {
          "output_type": "execute_result",
          "data": {
            "text/plain": [
              "(2, 4)"
            ]
          },
          "metadata": {},
          "execution_count": 104
        }
      ]
    },
    {
      "cell_type": "code",
      "source": [
        "# it will inform you, how much memory can store it \n",
        "arra.itemsize\n",
        "\n",
        "arra.size"
      ],
      "metadata": {
        "colab": {
          "base_uri": "https://localhost:8080/"
        },
        "id": "dIl2Ool5Ih2U",
        "outputId": "e9fe334e-fb08-4f16-d701-9fe4cc756ccd"
      },
      "execution_count": 111,
      "outputs": [
        {
          "output_type": "execute_result",
          "data": {
            "text/plain": [
              "8"
            ]
          },
          "metadata": {},
          "execution_count": 111
        }
      ]
    },
    {
      "cell_type": "code",
      "source": [
        "# check the datatype of the array\n",
        "arra.dtype"
      ],
      "metadata": {
        "colab": {
          "base_uri": "https://localhost:8080/"
        },
        "id": "Hh-caPnKIxUc",
        "outputId": "32dd3e38-82e0-44d6-a015-edac49c91535"
      },
      "execution_count": 107,
      "outputs": [
        {
          "output_type": "execute_result",
          "data": {
            "text/plain": [
              "dtype('int64')"
            ]
          },
          "metadata": {},
          "execution_count": 107
        }
      ]
    },
    {
      "cell_type": "code",
      "source": [
        "# Check the dimension of the array\n",
        "arra.ndim"
      ],
      "metadata": {
        "colab": {
          "base_uri": "https://localhost:8080/"
        },
        "id": "sANhnHIbI64M",
        "outputId": "ab48afb9-1ccb-4eb1-9241-480dcac78043"
      },
      "execution_count": 120,
      "outputs": [
        {
          "output_type": "execute_result",
          "data": {
            "text/plain": [
              "2"
            ]
          },
          "metadata": {},
          "execution_count": 120
        }
      ]
    },
    {
      "cell_type": "code",
      "source": [
        "# Check the diagnoal of the array\n",
        "arra.diagonal()"
      ],
      "metadata": {
        "colab": {
          "base_uri": "https://localhost:8080/"
        },
        "id": "ueGyN9veJhYE",
        "outputId": "aee2a2ca-ee13-4b8d-e747-8ede4d0c85fd"
      },
      "execution_count": 123,
      "outputs": [
        {
          "output_type": "execute_result",
          "data": {
            "text/plain": [
              "array([1, 6])"
            ]
          },
          "metadata": {},
          "execution_count": 123
        }
      ]
    },
    {
      "cell_type": "code",
      "source": [
        "ar = np.array([\n",
        "                 [1,2,3,4],\n",
        "                 [5,6,7,8],\n",
        "                 [9,10,11,12]\n",
        "                 ])\n",
        "ar"
      ],
      "metadata": {
        "colab": {
          "base_uri": "https://localhost:8080/"
        },
        "id": "PrcxRlTVJG3k",
        "outputId": "52bf96cc-2127-4877-b4a8-b0ea98295b5c"
      },
      "execution_count": 113,
      "outputs": [
        {
          "output_type": "execute_result",
          "data": {
            "text/plain": [
              "array([[ 1,  2,  3,  4],\n",
              "       [ 5,  6,  7,  8],\n",
              "       [ 9, 10, 11, 12]])"
            ]
          },
          "metadata": {},
          "execution_count": 113
        }
      ]
    },
    {
      "cell_type": "code",
      "source": [
        "# ar.shape\n",
        "# ar.ndim\n",
        "# ar.dtype\n",
        "# ar.diagonal()"
      ],
      "metadata": {
        "id": "KgS2wX_kJVnE"
      },
      "execution_count": 127,
      "outputs": []
    },
    {
      "cell_type": "markdown",
      "source": [
        "# **Sunnary and Statistics**"
      ],
      "metadata": {
        "id": "Y4gLCVGvJyA_"
      }
    },
    {
      "cell_type": "code",
      "source": [
        "ar.sum()"
      ],
      "metadata": {
        "colab": {
          "base_uri": "https://localhost:8080/"
        },
        "id": "ozJbcengJ45j",
        "outputId": "6eac9cef-2a9a-4856-e655-4c1640c296a1"
      },
      "execution_count": 130,
      "outputs": [
        {
          "output_type": "execute_result",
          "data": {
            "text/plain": [
              "78"
            ]
          },
          "metadata": {},
          "execution_count": 130
        }
      ]
    },
    {
      "cell_type": "code",
      "source": [
        "ar.mean()"
      ],
      "metadata": {
        "colab": {
          "base_uri": "https://localhost:8080/"
        },
        "id": "v5uwhUhrJ8fk",
        "outputId": "f1165c0a-656d-4b92-f510-4729413a2eb8"
      },
      "execution_count": 132,
      "outputs": [
        {
          "output_type": "execute_result",
          "data": {
            "text/plain": [
              "6.5"
            ]
          },
          "metadata": {},
          "execution_count": 132
        }
      ]
    },
    {
      "cell_type": "code",
      "source": [
        "ar.std()"
      ],
      "metadata": {
        "colab": {
          "base_uri": "https://localhost:8080/"
        },
        "id": "yTicMuYyKAl8",
        "outputId": "bd331f1e-3f2e-4c03-e46b-94f67c716898"
      },
      "execution_count": 134,
      "outputs": [
        {
          "output_type": "execute_result",
          "data": {
            "text/plain": [
              "3.452052529534663"
            ]
          },
          "metadata": {},
          "execution_count": 134
        }
      ]
    },
    {
      "cell_type": "code",
      "source": [
        "ar.var()"
      ],
      "metadata": {
        "colab": {
          "base_uri": "https://localhost:8080/"
        },
        "id": "L5AaykFoKCac",
        "outputId": "ba599d7b-ca2c-403a-b508-b4d1771d533e"
      },
      "execution_count": 136,
      "outputs": [
        {
          "output_type": "execute_result",
          "data": {
            "text/plain": [
              "11.916666666666666"
            ]
          },
          "metadata": {},
          "execution_count": 136
        }
      ]
    },
    {
      "cell_type": "code",
      "source": [
        "# inorder to get the value accordingly axies"
      ],
      "metadata": {
        "id": "QRL2L6t6KEu0"
      },
      "execution_count": 138,
      "outputs": []
    },
    {
      "cell_type": "code",
      "source": [
        "# axis= 0 represents the Colums\n",
        "ar.sum(axis=0)"
      ],
      "metadata": {
        "colab": {
          "base_uri": "https://localhost:8080/"
        },
        "id": "O0N92XIlKN6M",
        "outputId": "89b1d2a2-c4fb-4fc5-ab58-ac79feec9a6b"
      },
      "execution_count": 143,
      "outputs": [
        {
          "output_type": "execute_result",
          "data": {
            "text/plain": [
              "array([15, 18, 21, 24])"
            ]
          },
          "metadata": {},
          "execution_count": 143
        }
      ]
    },
    {
      "cell_type": "code",
      "source": [
        "# axis= 1 represents the rows\n",
        "ar.sum(axis=1)"
      ],
      "metadata": {
        "colab": {
          "base_uri": "https://localhost:8080/"
        },
        "id": "aQF_qqqqKZn3",
        "outputId": "ecb4ff8a-c947-4133-9600-f5e5b319fb03"
      },
      "execution_count": 145,
      "outputs": [
        {
          "output_type": "execute_result",
          "data": {
            "text/plain": [
              "array([10, 26, 42])"
            ]
          },
          "metadata": {},
          "execution_count": 145
        }
      ]
    },
    {
      "cell_type": "code",
      "source": [
        "ar.mean(axis=0)  #Colums"
      ],
      "metadata": {
        "colab": {
          "base_uri": "https://localhost:8080/"
        },
        "id": "YeHx7aJPKTUk",
        "outputId": "924e6b59-559e-4d9d-c1fc-0d6c60e87e3b"
      },
      "execution_count": 149,
      "outputs": [
        {
          "output_type": "execute_result",
          "data": {
            "text/plain": [
              "array([5., 6., 7., 8.])"
            ]
          },
          "metadata": {},
          "execution_count": 149
        }
      ]
    },
    {
      "cell_type": "code",
      "source": [
        "ar.mean(axis=1) #rows"
      ],
      "metadata": {
        "colab": {
          "base_uri": "https://localhost:8080/"
        },
        "id": "ay8gGEsfKplc",
        "outputId": "73364b4a-67b8-4324-f0bf-78ead10e310d"
      },
      "execution_count": 150,
      "outputs": [
        {
          "output_type": "execute_result",
          "data": {
            "text/plain": [
              "array([ 2.5,  6.5, 10.5])"
            ]
          },
          "metadata": {},
          "execution_count": 150
        }
      ]
    },
    {
      "cell_type": "code",
      "source": [
        "ar.std(axis=0) #colums"
      ],
      "metadata": {
        "colab": {
          "base_uri": "https://localhost:8080/"
        },
        "id": "8ecf4wNbKwU9",
        "outputId": "4788f56a-d003-43e0-a430-f1a5e3caf172"
      },
      "execution_count": 151,
      "outputs": [
        {
          "output_type": "execute_result",
          "data": {
            "text/plain": [
              "array([3.26598632, 3.26598632, 3.26598632, 3.26598632])"
            ]
          },
          "metadata": {},
          "execution_count": 151
        }
      ]
    },
    {
      "cell_type": "code",
      "source": [
        "ar.std(axis=1) #rows"
      ],
      "metadata": {
        "colab": {
          "base_uri": "https://localhost:8080/"
        },
        "id": "9PaqjEJrK0gE",
        "outputId": "e1030768-ca35-4982-e45d-c83ef8304e73"
      },
      "execution_count": 154,
      "outputs": [
        {
          "output_type": "execute_result",
          "data": {
            "text/plain": [
              "array([1.11803399, 1.11803399, 1.11803399])"
            ]
          },
          "metadata": {},
          "execution_count": 154
        }
      ]
    },
    {
      "cell_type": "code",
      "source": [
        "a = sin(ar)\n",
        "a"
      ],
      "metadata": {
        "colab": {
          "base_uri": "https://localhost:8080/"
        },
        "id": "oYmh-qOgK7NE",
        "outputId": "8e438f0d-9b28-44c6-9b3d-6b3ae72d2183"
      },
      "execution_count": 158,
      "outputs": [
        {
          "output_type": "execute_result",
          "data": {
            "text/plain": [
              "array([[ 0.84147098,  0.90929743,  0.14112001, -0.7568025 ],\n",
              "       [-0.95892427, -0.2794155 ,  0.6569866 ,  0.98935825],\n",
              "       [ 0.41211849, -0.54402111, -0.99999021, -0.53657292]])"
            ]
          },
          "metadata": {},
          "execution_count": 158
        }
      ]
    },
    {
      "cell_type": "code",
      "source": [
        "a = cos(ar)\n",
        "a"
      ],
      "metadata": {
        "colab": {
          "base_uri": "https://localhost:8080/"
        },
        "id": "4FsZgHhKLEvE",
        "outputId": "619ffcc5-2441-4d3b-fc91-7ec8492424ef"
      },
      "execution_count": 160,
      "outputs": [
        {
          "output_type": "execute_result",
          "data": {
            "text/plain": [
              "array([[ 0.54030231, -0.41614684, -0.9899925 , -0.65364362],\n",
              "       [ 0.28366219,  0.96017029,  0.75390225, -0.14550003],\n",
              "       [-0.91113026, -0.83907153,  0.0044257 ,  0.84385396]])"
            ]
          },
          "metadata": {},
          "execution_count": 160
        }
      ]
    },
    {
      "cell_type": "code",
      "source": [
        "a = tan(ar)\n",
        "a"
      ],
      "metadata": {
        "colab": {
          "base_uri": "https://localhost:8080/"
        },
        "id": "lKYKjtVWLH14",
        "outputId": "c91cd6ab-88e4-41f3-abc5-ceac0f40a1d7"
      },
      "execution_count": 163,
      "outputs": [
        {
          "output_type": "execute_result",
          "data": {
            "text/plain": [
              "array([[ 1.55740772e+00, -2.18503986e+00, -1.42546543e-01,\n",
              "         1.15782128e+00],\n",
              "       [-3.38051501e+00, -2.91006191e-01,  8.71447983e-01,\n",
              "        -6.79971146e+00],\n",
              "       [-4.52315659e-01,  6.48360827e-01, -2.25950846e+02,\n",
              "        -6.35859929e-01]])"
            ]
          },
          "metadata": {},
          "execution_count": 163
        }
      ]
    },
    {
      "cell_type": "code",
      "source": [
        "ar.min()"
      ],
      "metadata": {
        "colab": {
          "base_uri": "https://localhost:8080/"
        },
        "id": "CPj7vA5dLLCZ",
        "outputId": "4f313d33-c508-4abc-d616-4723d9075e7c"
      },
      "execution_count": 166,
      "outputs": [
        {
          "output_type": "execute_result",
          "data": {
            "text/plain": [
              "1"
            ]
          },
          "metadata": {},
          "execution_count": 166
        }
      ]
    },
    {
      "cell_type": "code",
      "source": [
        "ar.max()"
      ],
      "metadata": {
        "colab": {
          "base_uri": "https://localhost:8080/"
        },
        "id": "DPzH66bdLUhE",
        "outputId": "1bfcbd39-718f-49c1-b88f-d9947dbf3f9d"
      },
      "execution_count": 167,
      "outputs": [
        {
          "output_type": "execute_result",
          "data": {
            "text/plain": [
              "12"
            ]
          },
          "metadata": {},
          "execution_count": 167
        }
      ]
    },
    {
      "cell_type": "markdown",
      "source": [
        "## Boolean Array"
      ],
      "metadata": {
        "id": "enZo8l7JLcpm"
      }
    },
    {
      "cell_type": "code",
      "source": [
        "my_arr = np.array([9,10,11,12])\n",
        "my_arr"
      ],
      "metadata": {
        "colab": {
          "base_uri": "https://localhost:8080/"
        },
        "id": "M_XaKlVXLNRE",
        "outputId": "755cf314-213b-4b1d-c1c2-eda952b4764d"
      },
      "execution_count": 171,
      "outputs": [
        {
          "output_type": "execute_result",
          "data": {
            "text/plain": [
              "array([ 9, 10, 11, 12])"
            ]
          },
          "metadata": {},
          "execution_count": 171
        }
      ]
    },
    {
      "cell_type": "code",
      "source": [
        "# in order to get value by using the boolean\n",
        "my_arr[[True,False,False,True]]"
      ],
      "metadata": {
        "colab": {
          "base_uri": "https://localhost:8080/"
        },
        "id": "bhWowMwuLo3V",
        "outputId": "6a2bf9d4-6a5f-4039-d21d-c216074a0a9d"
      },
      "execution_count": 173,
      "outputs": [
        {
          "output_type": "execute_result",
          "data": {
            "text/plain": [
              "array([ 9, 12])"
            ]
          },
          "metadata": {},
          "execution_count": 173
        }
      ]
    },
    {
      "cell_type": "markdown",
      "source": [
        "## Linear Algebra"
      ],
      "metadata": {
        "id": "nkoDd8bTMZyG"
      }
    },
    {
      "cell_type": "code",
      "source": [
        "ar1= np.array([\n",
        "                 [1,2,3,4],\n",
        "                 [5,6,7,8],\n",
        "                 [9,10,11,12]\n",
        "                 ])\n",
        "ar1.reshape(4,3)\n"
      ],
      "metadata": {
        "colab": {
          "base_uri": "https://localhost:8080/"
        },
        "id": "FobAUjc1MGRO",
        "outputId": "1e57494d-02e1-43b7-9782-ccdcdd701609"
      },
      "execution_count": 186,
      "outputs": [
        {
          "output_type": "execute_result",
          "data": {
            "text/plain": [
              "array([[ 1,  2,  3],\n",
              "       [ 4,  5,  6],\n",
              "       [ 7,  8,  9],\n",
              "       [10, 11, 12]])"
            ]
          },
          "metadata": {},
          "execution_count": 186
        }
      ]
    },
    {
      "cell_type": "code",
      "source": [
        "ar2 = np.array([\n",
        "                 [1,2,3,4],\n",
        "                 [5,6,7,8],\n",
        "                 [9,10,11,12]\n",
        "                 ])\n",
        "ar2.reshape(4,3)"
      ],
      "metadata": {
        "colab": {
          "base_uri": "https://localhost:8080/"
        },
        "id": "DMn79_jlNRO5",
        "outputId": "92666ae2-14cc-49a6-d332-75e7baf19039"
      },
      "execution_count": 187,
      "outputs": [
        {
          "output_type": "execute_result",
          "data": {
            "text/plain": [
              "array([[ 1,  2,  3],\n",
              "       [ 4,  5,  6],\n",
              "       [ 7,  8,  9],\n",
              "       [10, 11, 12]])"
            ]
          },
          "metadata": {},
          "execution_count": 187
        }
      ]
    },
    {
      "cell_type": "markdown",
      "source": [
        "## Size of Objects in Memory"
      ],
      "metadata": {
        "id": "o8vKH31aNfEQ"
      }
    },
    {
      "cell_type": "markdown",
      "source": [
        "# Int and Float"
      ],
      "metadata": {
        "id": "O-SuFJ3_OIk8"
      }
    },
    {
      "cell_type": "code",
      "source": [
        "import sys\n",
        "sys.getsizeof(1)"
      ],
      "metadata": {
        "colab": {
          "base_uri": "https://localhost:8080/"
        },
        "id": "wbbq0-P_Nso1",
        "outputId": "b8b9d4ee-d449-436e-d877-707a55089c48"
      },
      "execution_count": 191,
      "outputs": [
        {
          "output_type": "execute_result",
          "data": {
            "text/plain": [
              "28"
            ]
          },
          "metadata": {},
          "execution_count": 191
        }
      ]
    },
    {
      "cell_type": "code",
      "source": [
        "sys.getsizeof(1000*1888)"
      ],
      "metadata": {
        "colab": {
          "base_uri": "https://localhost:8080/"
        },
        "id": "QApmSXd0NxrN",
        "outputId": "22128e56-22ad-407e-c709-feca1291c731"
      },
      "execution_count": 197,
      "outputs": [
        {
          "output_type": "execute_result",
          "data": {
            "text/plain": [
              "28"
            ]
          },
          "metadata": {},
          "execution_count": 197
        }
      ]
    },
    {
      "cell_type": "markdown",
      "source": [
        "## Numpy size is much smaller"
      ],
      "metadata": {
        "id": "Cy999yD9OMOe"
      }
    },
    {
      "cell_type": "code",
      "source": [
        "np.dtype(int).itemsize"
      ],
      "metadata": {
        "colab": {
          "base_uri": "https://localhost:8080/"
        },
        "id": "jJ2-fSSAN0kX",
        "outputId": "15fbde80-aa8d-4dbb-d9f0-1063e82850a6"
      },
      "execution_count": 199,
      "outputs": [
        {
          "output_type": "execute_result",
          "data": {
            "text/plain": [
              "8"
            ]
          },
          "metadata": {},
          "execution_count": 199
        }
      ]
    },
    {
      "cell_type": "code",
      "source": [
        "np.dtype(float).itemsize"
      ],
      "metadata": {
        "colab": {
          "base_uri": "https://localhost:8080/"
        },
        "id": "nJKQvn1aOU8d",
        "outputId": "905f013c-0d7e-4582-ce09-4da33c888bcc"
      },
      "execution_count": 201,
      "outputs": [
        {
          "output_type": "execute_result",
          "data": {
            "text/plain": [
              "8"
            ]
          },
          "metadata": {},
          "execution_count": 201
        }
      ]
    },
    {
      "cell_type": "code",
      "source": [
        "np.dtype(str).itemsize"
      ],
      "metadata": {
        "colab": {
          "base_uri": "https://localhost:8080/"
        },
        "id": "TwAOGex9OXFt",
        "outputId": "5682fcc0-d216-4793-e42a-0c5ef0a181e1"
      },
      "execution_count": 203,
      "outputs": [
        {
          "output_type": "execute_result",
          "data": {
            "text/plain": [
              "0"
            ]
          },
          "metadata": {},
          "execution_count": 203
        }
      ]
    },
    {
      "cell_type": "markdown",
      "source": [
        "## Lists are even larger"
      ],
      "metadata": {
        "id": "82iSaw51OcoI"
      }
    },
    {
      "cell_type": "code",
      "source": [
        "sys.getsizeof([1])"
      ],
      "metadata": {
        "colab": {
          "base_uri": "https://localhost:8080/"
        },
        "id": "6ce1WpsuOabV",
        "outputId": "098f8c9e-81ba-40e8-fbdd-50a337c87841"
      },
      "execution_count": 205,
      "outputs": [
        {
          "output_type": "execute_result",
          "data": {
            "text/plain": [
              "80"
            ]
          },
          "metadata": {},
          "execution_count": 205
        }
      ]
    },
    {
      "cell_type": "code",
      "source": [
        "sys.getsizeof([1,2,3]) #Further increase"
      ],
      "metadata": {
        "colab": {
          "base_uri": "https://localhost:8080/"
        },
        "id": "IcpQt-txOkYn",
        "outputId": "85e2e8a0-8219-494e-da24-3971b0895673"
      },
      "execution_count": 208,
      "outputs": [
        {
          "output_type": "execute_result",
          "data": {
            "text/plain": [
              "96"
            ]
          },
          "metadata": {},
          "execution_count": 208
        }
      ]
    },
    {
      "cell_type": "markdown",
      "source": [
        "## Performance in array and numpy which is very important"
      ],
      "metadata": {
        "id": "scLrV4y4OsFn"
      }
    },
    {
      "cell_type": "code",
      "source": [
        "# In list the speed\n",
        "l = list(range(100))\n",
        "% time sum([x**2 for x in l])"
      ],
      "metadata": {
        "colab": {
          "base_uri": "https://localhost:8080/"
        },
        "id": "6W7hveamOpE-",
        "outputId": "3a0f1851-f49d-4d3f-8392-a31a93397033"
      },
      "execution_count": 215,
      "outputs": [
        {
          "output_type": "stream",
          "name": "stdout",
          "text": [
            "CPU times: user 118 µs, sys: 11 µs, total: 129 µs\n",
            "Wall time: 135 µs\n"
          ]
        },
        {
          "output_type": "execute_result",
          "data": {
            "text/plain": [
              "328350"
            ]
          },
          "metadata": {},
          "execution_count": 215
        }
      ]
    },
    {
      "cell_type": "code",
      "source": [
        "l = list(range(1000000))\n",
        "% time sum([x**2 for x in l])"
      ],
      "metadata": {
        "colab": {
          "base_uri": "https://localhost:8080/"
        },
        "id": "_ii0tUIUPbH_",
        "outputId": "a332eef3-4567-4839-8f27-47bc93b600b2"
      },
      "execution_count": 217,
      "outputs": [
        {
          "output_type": "stream",
          "name": "stdout",
          "text": [
            "CPU times: user 392 ms, sys: 27.8 ms, total: 420 ms\n",
            "Wall time: 418 ms\n"
          ]
        },
        {
          "output_type": "execute_result",
          "data": {
            "text/plain": [
              "333332833333500000"
            ]
          },
          "metadata": {},
          "execution_count": 217
        }
      ]
    },
    {
      "cell_type": "code",
      "source": [
        "# In array the speed\n",
        "a  = np.arange(1000)\n",
        "% time sum(a**2)"
      ],
      "metadata": {
        "colab": {
          "base_uri": "https://localhost:8080/"
        },
        "id": "JosHM4z3PArG",
        "outputId": "db523786-4b4b-4714-e76b-e4abefe43e3b"
      },
      "execution_count": 213,
      "outputs": [
        {
          "output_type": "stream",
          "name": "stdout",
          "text": [
            "CPU times: user 243 µs, sys: 0 ns, total: 243 µs\n",
            "Wall time: 254 µs\n"
          ]
        },
        {
          "output_type": "execute_result",
          "data": {
            "text/plain": [
              "332833500"
            ]
          },
          "metadata": {},
          "execution_count": 213
        }
      ]
    },
    {
      "cell_type": "code",
      "source": [
        "a  = np.arange(1000000)\n",
        "% time sum(a**2)"
      ],
      "metadata": {
        "colab": {
          "base_uri": "https://localhost:8080/"
        },
        "id": "Io1ecoggPXM-",
        "outputId": "40386a85-8981-4731-a89e-4c5a3f735d8b"
      },
      "execution_count": 218,
      "outputs": [
        {
          "output_type": "stream",
          "name": "stdout",
          "text": [
            "CPU times: user 4.29 ms, sys: 14 µs, total: 4.3 ms\n",
            "Wall time: 4.76 ms\n"
          ]
        },
        {
          "output_type": "execute_result",
          "data": {
            "text/plain": [
              "333332833333500000"
            ]
          },
          "metadata": {},
          "execution_count": 218
        }
      ]
    },
    {
      "cell_type": "markdown",
      "source": [
        "## Usefull numpy funcions"
      ],
      "metadata": {
        "id": "jaSJbMVsPjeF"
      }
    },
    {
      "cell_type": "code",
      "source": [
        "# random()\n",
        "# arrange()\n",
        "# reshape()\n",
        "# linespae()\n",
        "# logspace()\n",
        "# zeros()\n",
        "# ones()\n",
        "# empty()\n",
        "# identity()\n",
        "# eye()"
      ],
      "metadata": {
        "id": "H42UN2DWPmT9"
      },
      "execution_count": 220,
      "outputs": []
    }
  ]
}